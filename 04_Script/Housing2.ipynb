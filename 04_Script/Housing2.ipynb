{
  "nbformat": 4,
  "nbformat_minor": 0,
  "metadata": {
    "colab": {
      "name": "Housing2.ipynb",
      "provenance": [],
      "collapsed_sections": []
    },
    "kernelspec": {
      "name": "python3",
      "display_name": "Python 3"
    },
    "language_info": {
      "name": "python"
    }
  },
  "cells": [
    {
      "cell_type": "code",
      "execution_count": null,
      "metadata": {
        "id": "yilMLIKuwoUf"
      },
      "outputs": [],
      "source": [
        "# coding:utf-8\n",
        "\n",
        "import requests\n",
        "import csv\n",
        "from lxml import html\n",
        "\n",
        "url='https://zz.lianjia.com/ershoufang/pg{page}/'  #目标网页\n",
        "\n",
        "if __name__ == '__main__':\n",
        "    start_page=0\n",
        "    end_page=50                                   #爬取终止页数\n",
        "    with open('zzhousing.csv','w',newline='') as f:   #以读写模式打开CSV\n",
        "        csv_writer=csv.writer(f)\n",
        "        print('start.....')\n",
        "        while start_page<=end_page:                #循环页数终止判断\n",
        "            start_page+=1\n",
        "            print('get:{0}'.format(url.format(page=start_page)))\n",
        "            response=requests.get(url.format(page=start_page))\n",
        "            tree = html.fromstring(response.text)\n",
        "            el = tree.xpath('//div[@class=\"info clear\"]')\n",
        "            for house in el:                       #遍历每个房产项目\n",
        "                house_title = house.xpath('div[@class=\"title\"]/a/text()') #名称\n",
        "                house_addr = house.xpath('div[@class=\"flood\"]/div[@class=\"positionInfo\"]/a/text()') #地址\n",
        "                house_totalprice = house.xpath('div[@class=\"priceInfo\"]/div[@class=\"totalPrice\"]/span/text()') #单价\n",
        "                house_unitprice = house.xpath('div[@class=\"priceInfo\"]/div[@class=\"unitPrice\"]/span/text()')   #总价\n",
        "                house_url = house.xpath('div[@class=\"title\"]/a/@href')   #详情页url网址\n",
        "                #整理数据\n",
        "                house_title = ''.join(house_title)\n",
        "                house_addrs = ''.join(house_addr)\n",
        "                house_totalprice = ''.join(house_totalprice)\n",
        "                house_unitprice = ''.join(house_unitprice)\n",
        "                house_url = ''.join(house_url)\n",
        "\n",
        "                #数据写入CSV\n",
        "                csv_writer.writerow([house_title,house_addr, house_unitprice, house_url, house_totalprice+str('万')])\n",
        "        print('end.....')"
      ]
    },
    {
      "cell_type": "code",
      "source": [
        "# coding:utf-8\n",
        "\n",
        "import json\n",
        "from urllib.request import urlopen, quote\n",
        "import csv\n",
        "\n",
        "def getlnglat(address):\n",
        "    url = 'https://api.map.baidu.com/geocoding/v3/'\n",
        "    output = 'json'\n",
        "    ak = 'I0rw9y9QZt2aXKdb0xP5PbD0l5e5Q1AT'                  #在这里填写你的密匙\n",
        "    add = quote(str('郑州市') + address)    #由于本文城市变量为中文，为防止乱码，先用quote进行编码\n",
        "    uri = url + '?' + 'address=' + add  + '&output=' + output + '&ak=' + ak +'&callback=showLocation'   #传参指定格式，见API文档\n",
        "    req = urlopen(uri)\n",
        "    res = req.read().decode() #将其他编码的字符串解码成unicode\n",
        "    temp = json.loads(res) #对json数据进行解析\n",
        "    return temp\n",
        "\n"
      ],
      "metadata": {
        "id": "zTvyQQzX6AQb"
      },
      "execution_count": 6,
      "outputs": []
    },
    {
      "cell_type": "code",
      "source": [
        "file = open(r'/content/point.json','w',encoding='utf-8') #建立json数据文件\n",
        "with open(r'/content/zzhousing_.csv', 'r') as csvfile: #打开上一步爬取出来csv保存地址\n",
        "    reader = csv.reader(csvfile)\n",
        "    for line in reader: #读取csv里的数据\n",
        "        try:\n",
        "            # 忽略第一行\n",
        "            # if reader.line_num == 1: #由于第一行为变量名称，故忽略掉\n",
        "            #    continue\n",
        "            # line是个list，取得所有需要的值\n",
        "            b = line[1].strip()  # 将第二列addr读取出来并清除不需要字符\n",
        "            c = line[2].strip('元/平')  # 将第三列price读取出来并清除不需要字符\n",
        "            lng = getlnglat(b)['result']['location']['lng']  # 采用构造的函数来获取经度\n",
        "            lat = getlnglat(b)['result']['location']['lat']  # 获取纬度\n",
        "            # str_temp = '{\"lat\":' + str(lat) + ',\"lng\":' + str(lng) + ',\"count\":' + str(c) +'},'\n",
        "            str_temp = '{\"name\":\"' + str(b) + '\",\"value\":[' + str(lng) + ',' + str(lat) + ',' + str(c) + ']},'\n",
        "            # print(str_temp) #也可以通过打印出来，把数据copy到百度热力地图api的相应位置上\n",
        "            file.write(str_temp)  # 写入文档\n",
        "        except:\n",
        "            print(\"something wrong about city:\" + str(b))   #转换失败即打印错误项目\n",
        "file.close() #保存"
      ],
      "metadata": {
        "id": "Bb2eJYItCsJ2"
      },
      "execution_count": null,
      "outputs": []
    }
  ]
}